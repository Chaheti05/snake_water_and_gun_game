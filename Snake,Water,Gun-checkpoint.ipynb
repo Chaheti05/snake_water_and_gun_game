{
 "cells": [
  {
   "cell_type": "code",
   "execution_count": null,
   "id": "87d3a801",
   "metadata": {},
   "outputs": [
    {
     "name": "stdout",
     "output_type": "stream",
     "text": [
      "Compute Turn: Snake(S) , Water(W) or Gun(G)?\n"
     ]
    }
   ],
   "source": [
    "import random\n",
    "\n",
    "def gameWin(comp, you):\n",
    "    if comp == you:\n",
    "        return None\n",
    "    elif comp == 'S':\n",
    "        if you == 'W' or 'w':\n",
    "            return False\n",
    "        elif you =='G' or 'g':\n",
    "            return True\n",
    "    elif comp == 'W':\n",
    "            if you == 'G' or 'g':\n",
    "                return False\n",
    "            elif you == 'S' or 's':\n",
    "                return True\n",
    "    elif comp == 'G':\n",
    "            if you == 'S' or 's':\n",
    "                return False\n",
    "            elif you == 'W' or 'w':\n",
    "                return True\n",
    "\n",
    "print(\"Compute Turn: Snake(S) , Water(W) or Gun(G)?\")\n",
    "randNo = random.randint(1,3)\n",
    "if randNo == 1:\n",
    "    comp = 'S'\n",
    "elif randNo == 2:\n",
    "    comp = 'W'\n",
    "elif randNo == 3:\n",
    "    comp = 'G'\n",
    "\n",
    "you = input(\"Your Turn: Snake(S) , Water(W) or Gun(G)?\")\n",
    "a = gameWin(comp, you)\n",
    "print(f\"Computer chose {comp}\")\n",
    "print(f\"YOu chose {you}\")\n",
    "if a == None:\n",
    "    print(\"the Game Is Tie!\")\n",
    "elif a:\n",
    "    print(\"You Win\")\n",
    "else:\n",
    "    print(\"You losse\")"
   ]
  },
  {
   "cell_type": "code",
   "execution_count": null,
   "id": "e830f89c",
   "metadata": {},
   "outputs": [],
   "source": []
  }
 ],
 "metadata": {
  "kernelspec": {
   "display_name": "Python 3",
   "language": "python",
   "name": "python3"
  },
  "language_info": {
   "codemirror_mode": {
    "name": "ipython",
    "version": 3
   },
   "file_extension": ".py",
   "mimetype": "text/x-python",
   "name": "python",
   "nbconvert_exporter": "python",
   "pygments_lexer": "ipython3",
   "version": "3.8.8"
  }
 },
 "nbformat": 4,
 "nbformat_minor": 5
}
